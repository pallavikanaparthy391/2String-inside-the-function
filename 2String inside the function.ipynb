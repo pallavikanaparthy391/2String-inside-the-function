{
 "cells": [
  {
   "cell_type": "code",
   "execution_count": 26,
   "id": "9501e8f4",
   "metadata": {},
   "outputs": [
    {
     "name": "stdout",
     "output_type": "stream",
     "text": [
      "pallavi450\n",
      "054ivallap\n"
     ]
    }
   ],
   "source": [
    "def string_reverse(str1):    #define a function\n",
    "    \n",
    "    rstr1=''\n",
    "    index=len(str1)\n",
    "    while index>0:\n",
    "        rstr1 +=str1[index-1]   #count the index value\n",
    "        index=index-1\n",
    "    return rstr1\n",
    "str='pallavi450'   #taken as input\n",
    "print(str)         #print the string\n",
    "print(string_reverse(str))    #print the string after reverse function"
   ]
  },
  {
   "cell_type": "markdown",
   "id": "354ec610",
   "metadata": {},
   "source": [
    "# test cases"
   ]
  },
  {
   "cell_type": "code",
   "execution_count": null,
   "id": "90259c90",
   "metadata": {},
   "outputs": [],
   "source": []
  },
  {
   "cell_type": "code",
   "execution_count": 27,
   "id": "2ee6ddf9",
   "metadata": {},
   "outputs": [
    {
     "name": "stdout",
     "output_type": "stream",
     "text": [
      "pallavi449\n",
      "944ivallap\n"
     ]
    }
   ],
   "source": [
    "def string_reverse(str1):       #define a function\n",
    "    \n",
    "    rstr1=''\n",
    "    index=len(str1)\n",
    "    while index>0:\n",
    "        rstr1 +=str1[index-1]    #count the index value\n",
    "        index=index-1\n",
    "    return rstr1\n",
    "str='pallavi449'        #taken as input\n",
    "print(str)               #print the string\n",
    "print(string_reverse(str))      #print the string after reverse function"
   ]
  },
  {
   "cell_type": "code",
   "execution_count": null,
   "id": "dc08a86a",
   "metadata": {},
   "outputs": [],
   "source": []
  },
  {
   "cell_type": "code",
   "execution_count": 28,
   "id": "5b386896",
   "metadata": {},
   "outputs": [
    {
     "name": "stdout",
     "output_type": "stream",
     "text": [
      "pallavi1628\n",
      "8261ivallap\n"
     ]
    }
   ],
   "source": [
    "def string_reverse(str1):       #define a function\n",
    "    \n",
    "    rstr1=''\n",
    "    index=len(str1)\n",
    "    while index>0:\n",
    "        rstr1 +=str1[index-1]     #count the index value\n",
    "        index=index-1\n",
    "    return rstr1\n",
    "str='pallavi1628'                #taken as input\n",
    "print(str)                      #print the string\n",
    "print(string_reverse(str))      #print the string after reverse function"
   ]
  },
  {
   "cell_type": "code",
   "execution_count": null,
   "id": "56d2f0d1",
   "metadata": {},
   "outputs": [],
   "source": []
  },
  {
   "cell_type": "code",
   "execution_count": null,
   "id": "fdafe1e0",
   "metadata": {},
   "outputs": [],
   "source": []
  },
  {
   "cell_type": "code",
   "execution_count": null,
   "id": "28d39025",
   "metadata": {},
   "outputs": [],
   "source": []
  }
 ],
 "metadata": {
  "kernelspec": {
   "display_name": "Python 3 (ipykernel)",
   "language": "python",
   "name": "python3"
  },
  "language_info": {
   "codemirror_mode": {
    "name": "ipython",
    "version": 3
   },
   "file_extension": ".py",
   "mimetype": "text/x-python",
   "name": "python",
   "nbconvert_exporter": "python",
   "pygments_lexer": "ipython3",
   "version": "3.10.1"
  }
 },
 "nbformat": 4,
 "nbformat_minor": 5
}
